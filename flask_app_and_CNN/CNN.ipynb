{
 "cells": [
  {
   "cell_type": "code",
   "execution_count": 1,
   "metadata": {},
   "outputs": [
    {
     "name": "stderr",
     "output_type": "stream",
     "text": [
      "Using TensorFlow backend.\n"
     ]
    }
   ],
   "source": [
    "from sklearn.datasets import load_files\n",
    "from keras.preprocessing.image import array_to_img, img_to_array, load_img\n",
    "import numpy as np\n",
    " \n",
    "from keras.models import Sequential, model_from_json\n",
    "from keras.layers import Conv2D,MaxPooling2D\n",
    "from keras.layers import Activation, Dense, Flatten, Dropout, BatchNormalization, GaussianNoise\n",
    "from keras.optimizers import Adam\n",
    "from keras.metrics import categorical_accuracy\n",
    "from keras.preprocessing.image import ImageDataGenerator\n",
    "\n",
    " \n",
    "from keras.callbacks import ModelCheckpoint\n"
   ]
  },
  {
   "cell_type": "code",
   "execution_count": 4,
   "metadata": {},
   "outputs": [],
   "source": [
    "train_dir = 'fruits-360/Training'\n",
    "test_dir = 'fruits-360/Test'\n",
    " \n",
    "train2_dir = 'fruits-360/Training2'\n",
    "test2_dir = 'fruits-360/test2'"
   ]
  },
  {
   "cell_type": "code",
   "execution_count": 5,
   "metadata": {},
   "outputs": [
    {
     "name": "stdout",
     "output_type": "stream",
     "text": [
      "loading completed\n"
     ]
    }
   ],
   "source": [
    "#function which uses sklearn load_files to import the data\n",
    "def load_db(path):\n",
    "    data = load_files(path)\n",
    "    files = np.array(data['filenames'])\n",
    "    \n",
    "    \n",
    "\n",
    "    \n",
    "    \n",
    "    \n",
    "    targets = np.array(data['target'])\n",
    "    img = np.copy(targets)\n",
    "    \n",
    "    labels = np.array(data['target_names'])\n",
    "    return files, targets, labels\n",
    "\n",
    "x_train, y_train, labels = load_db(train_dir)\n",
    "x_test, y_test, labels = load_db(test_dir)\n",
    "\n",
    "x_train2, y_train2, labels = load_db(train2_dir)\n",
    "x_test2, y_test2, labels = load_db(test2_dir)\n",
    "print('loading completed')"
   ]
  },
  {
   "cell_type": "code",
   "execution_count": 6,
   "metadata": {},
   "outputs": [],
   "source": [
    "\n",
    "#inds = img[:,:,2] < 100"
   ]
  },
  {
   "cell_type": "code",
   "execution_count": 7,
   "metadata": {},
   "outputs": [
    {
     "name": "stdout",
     "output_type": "stream",
     "text": [
      "false\n"
     ]
    }
   ],
   "source": [
    "#make sure classes are the same\n",
    "no_of_classes = len(np.unique(y_train))\n",
    "no_of_Test_classes = len(np.unique(y_test))\n",
    "if no_of_classes == no_of_Test_classes:\n",
    "    print(no_of_classes)\n",
    "else:\n",
    "    print(\"false\")"
   ]
  },
  {
   "cell_type": "code",
   "execution_count": 6,
   "metadata": {},
   "outputs": [
    {
     "name": "stdout",
     "output_type": "stream",
     "text": [
      "Training set shape :  (3396, 100, 100, 3)\n",
      "Test set shape :  (1140, 100, 100, 3)\n",
      "Training set shape :  (3396, 100, 100, 3)\n",
      "Test set shape :  (1140, 100, 100, 3)\n",
      "1st training image shape  (100, 100, 3)\n",
      "1st training image shape  (100, 100, 3)\n"
     ]
    }
   ],
   "source": [
    "#convert images to array\n",
    "def convert_image_to_array(files):\n",
    "    images_as_array=[]\n",
    "    for file in files:\n",
    "        # Convert to Numpy Array\n",
    "        images_as_array.append(img_to_array(load_img(file)))\n",
    "    return images_as_array\n",
    "\n",
    "\n",
    "\n",
    "x_train = np.array(convert_image_to_array(x_train))\n",
    "print('Training set shape : ',x_train.shape)\n",
    "\n",
    "\n",
    "\n",
    "x_test = np.array(convert_image_to_array(x_test))\n",
    "print('Test set shape : ',x_test.shape)\n",
    "\n",
    "x_train2 = np.array(convert_image_to_array(x_train2))\n",
    "print('Training set shape : ',x_train.shape)\n",
    "\n",
    "\n",
    "\n",
    "x_test2 = np.array(convert_image_to_array(x_test2))\n",
    "print('Test set shape : ',x_test.shape)\n",
    "\n",
    "print('1st training image shape ',x_train[0].shape)\n",
    "print('1st training image shape ',x_test[0].shape)"
   ]
  },
  {
   "cell_type": "code",
   "execution_count": null,
   "metadata": {},
   "outputs": [],
   "source": []
  },
  {
   "cell_type": "code",
   "execution_count": 7,
   "metadata": {},
   "outputs": [],
   "source": [
    "x_test = x_test / 255.0\n",
    "x_train = x_train / 255.0\n",
    "\n",
    "x_test2 = x_test2 / 255.0\n",
    "x_train2 = x_train2 / 255.0"
   ]
  },
  {
   "cell_type": "code",
   "execution_count": 8,
   "metadata": {},
   "outputs": [
    {
     "data": {
      "text/plain": [
       "array([0., 0., 0., 1., 0., 0., 0.], dtype=float32)"
      ]
     },
     "execution_count": 8,
     "metadata": {},
     "output_type": "execute_result"
    }
   ],
   "source": [
    "from keras.utils import np_utils\n",
    "y_train = np_utils.to_categorical(y_train,no_of_classes)\n",
    "y_test = np_utils.to_categorical(y_test,no_of_Test_classes)\n",
    "y_train[0]\n",
    "#only one class will result to 1 as that is true class for first image"
   ]
  },
  {
   "cell_type": "code",
   "execution_count": 20,
   "metadata": {},
   "outputs": [],
   "source": [
    "inputs = x_train.reshape(3896, 30000)\n",
    "test_inputs = x_test.reshape(1635,30000)"
   ]
  },
  {
   "cell_type": "code",
   "execution_count": 17,
   "metadata": {},
   "outputs": [],
   "source": [
    "NormalNN = Sequential()\n",
    "    #Add the first layer to the neural network, it must take input of 1000 pixels as this is the size of our images\n",
    "NormalNN.add(Dense(units = 512, activation = 'sigmoid', input_dim = 30000))\n",
    "    #add a hidden layer\n",
    "NormalNN.add(Dense(units = 512, activation = 'sigmoid'))\n",
    "NormalNN.add(Dense(units=8, activation='softmax'))\n",
    "\n",
    "\n",
    "NormalNN.compile(loss='categorical_crossentropy', optimizer = 'adam', metrics = ['accuracy'])"
   ]
  },
  {
   "cell_type": "code",
   "execution_count": 18,
   "metadata": {},
   "outputs": [
    {
     "name": "stdout",
     "output_type": "stream",
     "text": [
      "_________________________________________________________________\n",
      "Layer (type)                 Output Shape              Param #   \n",
      "=================================================================\n",
      "dense_7 (Dense)              (None, 512)               15360512  \n",
      "_________________________________________________________________\n",
      "dense_8 (Dense)              (None, 512)               262656    \n",
      "_________________________________________________________________\n",
      "dense_9 (Dense)              (None, 8)                 4104      \n",
      "=================================================================\n",
      "Total params: 15,627,272\n",
      "Trainable params: 15,627,272\n",
      "Non-trainable params: 0\n",
      "_________________________________________________________________\n"
     ]
    }
   ],
   "source": [
    "NormalNN.summary()"
   ]
  },
  {
   "cell_type": "code",
   "execution_count": null,
   "metadata": {},
   "outputs": [],
   "source": []
  },
  {
   "cell_type": "code",
   "execution_count": 30,
   "metadata": {},
   "outputs": [
    {
     "name": "stdout",
     "output_type": "stream",
     "text": [
      "Train on 3116 samples, validate on 780 samples\n",
      "Epoch 1/5\n",
      "3116/3116 [==============================] - 19s 6ms/step - loss: 0.0624 - acc: 0.9955 - val_loss: 0.0709 - val_acc: 0.9949\n",
      "Epoch 2/5\n",
      "3116/3116 [==============================] - 19s 6ms/step - loss: 0.0412 - acc: 0.9981 - val_loss: 0.0685 - val_acc: 0.9962\n",
      "Epoch 3/5\n",
      "3116/3116 [==============================] - 19s 6ms/step - loss: 0.0741 - acc: 0.9958 - val_loss: 0.1044 - val_acc: 0.9846\n",
      "Epoch 4/5\n",
      "3116/3116 [==============================] - 19s 6ms/step - loss: 0.1453 - acc: 0.9663 - val_loss: 0.3577 - val_acc: 0.9192\n",
      "Epoch 5/5\n",
      "3116/3116 [==============================] - 19s 6ms/step - loss: 0.3092 - acc: 0.9150 - val_loss: 0.8942 - val_acc: 0.6615\n",
      "saving model\n",
      "\n"
     ]
    }
   ],
   "source": [
    "#Poor result got 1 in 10 categorical accuracy need to imporve this\n",
    "batch_size = 32\n",
    "\n",
    "history = NormalNN.fit(inputs,y_train,\n",
    "        batch_size = batch_size,\n",
    "        epochs=5,\n",
    "        validation_split=0.2,\n",
    "        verbose=1)\n",
    "\n",
    "model_json = NormalNN.to_json()\n",
    "print('saving model')\n",
    "with open(\"normal_model.json\", \"w\" ) as json_file:\n",
    "    json_file.write(model_json)\n",
    "model.save_weights(\"normal_model.H5\")\n",
    "print(\"model saved\")"
   ]
  },
  {
   "cell_type": "code",
   "execution_count": 32,
   "metadata": {},
   "outputs": [
    {
     "name": "stdout",
     "output_type": "stream",
     "text": [
      "\n",
      " Test accuracy: 0.6403669725135197\n"
     ]
    }
   ],
   "source": [
    "# evaluate and print test accuracy\n",
    "score = NormalNN.evaluate(test_inputs,y_test, verbose=0)\n",
    "print('\\n', 'Test accuracy:', score[1])"
   ]
  },
  {
   "cell_type": "markdown",
   "metadata": {},
   "source": [
    "## finished with normal neural network, Got good test accuracy now need to try using convolutional neural network"
   ]
  },
  {
   "cell_type": "code",
   "execution_count": 9,
   "metadata": {},
   "outputs": [
    {
     "name": "stdout",
     "output_type": "stream",
     "text": [
      "WARNING:tensorflow:From /anaconda3/lib/python3.7/site-packages/tensorflow/python/framework/op_def_library.py:263: colocate_with (from tensorflow.python.framework.ops) is deprecated and will be removed in a future version.\n",
      "Instructions for updating:\n",
      "Colocations handled automatically by placer.\n",
      "WARNING:tensorflow:From /anaconda3/lib/python3.7/site-packages/keras/backend/tensorflow_backend.py:3445: calling dropout (from tensorflow.python.ops.nn_ops) with keep_prob is deprecated and will be removed in a future version.\n",
      "Instructions for updating:\n",
      "Please use `rate` instead of `keep_prob`. Rate should be set to `rate = 1 - keep_prob`.\n",
      "_________________________________________________________________\n",
      "Layer (type)                 Output Shape              Param #   \n",
      "=================================================================\n",
      "conv2d_1 (Conv2D)            (None, 100, 100, 16)      448       \n",
      "_________________________________________________________________\n",
      "activation_1 (Activation)    (None, 100, 100, 16)      0         \n",
      "_________________________________________________________________\n",
      "batch_normalization_1 (Batch (None, 100, 100, 16)      64        \n",
      "_________________________________________________________________\n",
      "max_pooling2d_1 (MaxPooling2 (None, 50, 50, 16)        0         \n",
      "_________________________________________________________________\n",
      "gaussian_noise_1 (GaussianNo (None, 50, 50, 16)        0         \n",
      "_________________________________________________________________\n",
      "conv2d_2 (Conv2D)            (None, 50, 50, 32)        4640      \n",
      "_________________________________________________________________\n",
      "batch_normalization_2 (Batch (None, 50, 50, 32)        128       \n",
      "_________________________________________________________________\n",
      "max_pooling2d_2 (MaxPooling2 (None, 25, 25, 32)        0         \n",
      "_________________________________________________________________\n",
      "gaussian_noise_2 (GaussianNo (None, 25, 25, 32)        0         \n",
      "_________________________________________________________________\n",
      "flatten_1 (Flatten)          (None, 20000)             0         \n",
      "_________________________________________________________________\n",
      "dense_1 (Dense)              (None, 64)                1280064   \n",
      "_________________________________________________________________\n",
      "activation_2 (Activation)    (None, 64)                0         \n",
      "_________________________________________________________________\n",
      "dropout_1 (Dropout)          (None, 64)                0         \n",
      "_________________________________________________________________\n",
      "batch_normalization_3 (Batch (None, 64)                256       \n",
      "_________________________________________________________________\n",
      "dense_2 (Dense)              (None, 8)                 520       \n",
      "=================================================================\n",
      "Total params: 1,286,120\n",
      "Trainable params: 1,285,896\n",
      "Non-trainable params: 224\n",
      "_________________________________________________________________\n"
     ]
    }
   ],
   "source": [
    "model = Sequential()\n",
    "#model.add(GaussianNoise(0.1))\n",
    "model.add(Conv2D(filters = 16, kernel_size = (3,3),input_shape=(100,100,3),padding='same'))\n",
    "model.add(Activation('relu'))\n",
    "model.add(BatchNormalization())\n",
    "model.add(MaxPooling2D(pool_size=(2,2)))\n",
    "model.add(GaussianNoise(0.1))\n",
    "\n",
    "\n",
    "model.add(Conv2D(filters = 32,kernel_size = (3,3),activation= 'relu',padding='same'))\n",
    "model.add(BatchNormalization())\n",
    "model.add(MaxPooling2D(pool_size=(2,2)))\n",
    "model.add(GaussianNoise(0.1))\n",
    "\n",
    "\n",
    "\n",
    "\n",
    "model.add(Flatten())\n",
    "model.add(Dense(64))\n",
    "model.add(Activation('relu'))\n",
    "model.add(Dropout(0.5))\n",
    "model.add(BatchNormalization())\n",
    "model.add(Dense(8,activation = 'softmax'))\n",
    "model.summary()"
   ]
  },
  {
   "cell_type": "code",
   "execution_count": 34,
   "metadata": {},
   "outputs": [
    {
     "name": "stdout",
     "output_type": "stream",
     "text": [
      "Compiled!\n"
     ]
    }
   ],
   "source": [
    "\n",
    "#compile the model\n",
    "model.compile(loss='categorical_crossentropy',\n",
    "              optimizer='Adam',\n",
    "              metrics=['categorical_accuracy'])\n",
    "print('Compiled!')"
   ]
  },
  {
   "cell_type": "code",
   "execution_count": 35,
   "metadata": {},
   "outputs": [
    {
     "name": "stdout",
     "output_type": "stream",
     "text": [
      "Train on 3116 samples, validate on 780 samples\n",
      "Epoch 1/5\n",
      "3116/3116 [==============================] - 48s 15ms/step - loss: 0.4368 - categorical_accuracy: 0.9188 - val_loss: 0.0523 - val_categorical_accuracy: 0.9974\n",
      "Epoch 2/5\n",
      "3116/3116 [==============================] - 49s 16ms/step - loss: 0.1364 - categorical_accuracy: 0.9917 - val_loss: 0.0389 - val_categorical_accuracy: 0.9974\n",
      "Epoch 3/5\n",
      "3116/3116 [==============================] - 50s 16ms/step - loss: 0.0870 - categorical_accuracy: 0.9939 - val_loss: 0.0252 - val_categorical_accuracy: 1.0000\n",
      "Epoch 4/5\n",
      "3116/3116 [==============================] - 50s 16ms/step - loss: 0.0596 - categorical_accuracy: 0.9974 - val_loss: 0.0180 - val_categorical_accuracy: 0.9962\n",
      "Epoch 5/5\n",
      "3116/3116 [==============================] - 51s 16ms/step - loss: 0.0447 - categorical_accuracy: 0.9987 - val_loss: 0.0154 - val_categorical_accuracy: 0.9974\n",
      "saving model\n",
      "\n"
     ]
    }
   ],
   "source": [
    "#number of images to take in in one go\n",
    "batch_size = 64\n",
    "#so model will save the best prediction\n",
    "#need to take this out as weights generated are too large to push to heroku\n",
    "#checkpointer = ModelCheckpoint(filepath = 'Fruit_image.hdf5', verbose = 1, save_best_only = True)\n",
    "\n",
    "\n",
    "#Poor result got 1 in 10 categorical accuracy need to imporve this\n",
    "history = model.fit(x_train,y_train,\n",
    "        batch_size = batch_size,\n",
    "        epochs=5,\n",
    "        validation_split=0.2,\n",
    "        verbose=1)\n",
    "\n",
    "model_json = model.to_json()\n",
    "print('saving model')\n",
    "with open(\"cnn_model.json\", \"w\" ) as json_file:\n",
    "    json_file.write(model_json)\n",
    "model.save_weights(\"CNN_model.H5\")\n",
    "print()"
   ]
  },
  {
   "cell_type": "markdown",
   "metadata": {},
   "source": [
    "### good test score but not valid when used on pictures"
   ]
  },
  {
   "cell_type": "code",
   "execution_count": 36,
   "metadata": {},
   "outputs": [
    {
     "name": "stdout",
     "output_type": "stream",
     "text": [
      "\n",
      " Test accuracy: 0.9938837920489296\n"
     ]
    }
   ],
   "source": [
    "# evaluate and print test accuracy\n",
    "score = model.evaluate(x_test,y_test, verbose=0)\n",
    "print('\\n', 'Test accuracy:', score[1])\n"
   ]
  },
  {
   "cell_type": "markdown",
   "metadata": {},
   "source": [
    "### realised this wont work for camera images so need to try another method"
   ]
  },
  {
   "cell_type": "code",
   "execution_count": null,
   "metadata": {},
   "outputs": [],
   "source": [
    "\n",
    "train_datagen = ImageDataGenerator(\n",
    "    rescale = 1/255.0,\n",
    "    validation_split=0.2)\n",
    "\n",
    "training_batches = train_datagen.flow_from_directory(train_dir,target_size=(100,100), class_mode='categorical', batch_size=32,subset='training')\n",
    "valid_batches = train_datagen.flow_from_directory(train_dir,target_size=(100,100), class_mode='categorical', batch_size=32,subset='validation')\n",
    "\n",
    "test_batches = train_datagen.flow_from_directory(train_dir,target_size=(100,100), class_mode='categorical', batch_size=32)\n",
    "\n",
    "\n",
    "\n",
    "\n",
    "training_batches2 = train_datagen.flow_from_directory(train2_dir,target_size=(100,100),color_mode='rgba', class_mode='categorical', batch_size=32,subset='training')\n",
    "valid_batches2 = train_datagen.flow_from_directory(train2_dir,target_size=(100,100),color_mode='rgba', class_mode='categorical', batch_size=32,subset='validation')\n",
    "\n",
    "test_batches = train_datagen.flow_from_directory(train_dir,target_size=(100,100),color_mode='rgba', class_mode='categorical', batch_size=32)\n",
    "\n",
    "\n",
    "all_training_batches2 = train_datagen.flow_from_directory(train2_dir,target_size=(100,100),color_mode='rgba', class_mode='categorical', batch_size=32)"
   ]
  },
  {
   "cell_type": "code",
   "execution_count": 25,
   "metadata": {},
   "outputs": [
    {
     "name": "stdout",
     "output_type": "stream",
     "text": [
      "_________________________________________________________________\n",
      "Layer (type)                 Output Shape              Param #   \n",
      "=================================================================\n",
      "conv2d_5 (Conv2D)            (None, 100, 100, 16)      592       \n",
      "_________________________________________________________________\n",
      "activation_5 (Activation)    (None, 100, 100, 16)      0         \n",
      "_________________________________________________________________\n",
      "batch_normalization_7 (Batch (None, 100, 100, 16)      64        \n",
      "_________________________________________________________________\n",
      "max_pooling2d_5 (MaxPooling2 (None, 50, 50, 16)        0         \n",
      "_________________________________________________________________\n",
      "gaussian_noise_5 (GaussianNo (None, 50, 50, 16)        0         \n",
      "_________________________________________________________________\n",
      "conv2d_6 (Conv2D)            (None, 50, 50, 32)        4640      \n",
      "_________________________________________________________________\n",
      "batch_normalization_8 (Batch (None, 50, 50, 32)        128       \n",
      "_________________________________________________________________\n",
      "max_pooling2d_6 (MaxPooling2 (None, 25, 25, 32)        0         \n",
      "_________________________________________________________________\n",
      "gaussian_noise_6 (GaussianNo (None, 25, 25, 32)        0         \n",
      "_________________________________________________________________\n",
      "flatten_3 (Flatten)          (None, 20000)             0         \n",
      "_________________________________________________________________\n",
      "dense_5 (Dense)              (None, 64)                1280064   \n",
      "_________________________________________________________________\n",
      "activation_6 (Activation)    (None, 64)                0         \n",
      "_________________________________________________________________\n",
      "dropout_3 (Dropout)          (None, 64)                0         \n",
      "_________________________________________________________________\n",
      "batch_normalization_9 (Batch (None, 64)                256       \n",
      "_________________________________________________________________\n",
      "dense_6 (Dense)              (None, 8)                 520       \n",
      "=================================================================\n",
      "Total params: 1,286,264\n",
      "Trainable params: 1,286,040\n",
      "Non-trainable params: 224\n",
      "_________________________________________________________________\n"
     ]
    }
   ],
   "source": [
    "model2 = Sequential()\n",
    "#model.add(GaussianNoise(0.1))\n",
    "model2.add(Conv2D(filters = 16, kernel_size = (3,3),input_shape=(100,100,4),padding='same'))\n",
    "model2.add(Activation('relu'))\n",
    "model2.add(BatchNormalization())\n",
    "model2.add(MaxPooling2D(pool_size=(2,2)))\n",
    "model2.add(GaussianNoise(0.1))\n",
    "\n",
    "\n",
    "model2.add(Conv2D(filters = 32,kernel_size = (3,3),activation= 'relu',padding='same'))\n",
    "model2.add(BatchNormalization())\n",
    "model2.add(MaxPooling2D(pool_size=(2,2)))\n",
    "model2.add(GaussianNoise(0.1))\n",
    "\n",
    "\n",
    "\n",
    "\n",
    "model2.add(Flatten())\n",
    "model2.add(Dense(64))\n",
    "model2.add(Activation('relu'))\n",
    "model2.add(Dropout(0.5))\n",
    "model2.add(BatchNormalization())\n",
    "model2.add(Dense(8,activation = 'softmax'))\n",
    "model2.summary()"
   ]
  },
  {
   "cell_type": "code",
   "execution_count": 26,
   "metadata": {},
   "outputs": [
    {
     "name": "stdout",
     "output_type": "stream",
     "text": [
      "Compiled!\n"
     ]
    }
   ],
   "source": [
    "#compile the model\n",
    "model2.compile(loss='categorical_crossentropy',\n",
    "              optimizer='Adam',\n",
    "              metrics=['categorical_accuracy'])\n",
    "print('Compiled!')"
   ]
  },
  {
   "cell_type": "code",
   "execution_count": null,
   "metadata": {},
   "outputs": [],
   "source": [
    "# evaluate and print test accuracy\n",
    "score = model2.evaluate(x_test,y_test, verbose=0)\n",
    "print('\\n', 'Test accuracy:', score[1])"
   ]
  },
  {
   "cell_type": "code",
   "execution_count": null,
   "metadata": {},
   "outputs": [],
   "source": []
  },
  {
   "cell_type": "code",
   "execution_count": null,
   "metadata": {},
   "outputs": [],
   "source": []
  },
  {
   "cell_type": "code",
   "execution_count": null,
   "metadata": {},
   "outputs": [],
   "source": []
  },
  {
   "cell_type": "code",
   "execution_count": null,
   "metadata": {},
   "outputs": [],
   "source": []
  },
  {
   "cell_type": "code",
   "execution_count": 27,
   "metadata": {},
   "outputs": [
    {
     "name": "stdout",
     "output_type": "stream",
     "text": [
      "Epoch 1/2\n",
      "1000/1000 [==============================] - 772s 772ms/step - loss: 0.2336 - categorical_accuracy: 0.9432 - val_loss: 0.0281 - val_categorical_accuracy: 0.9939\n",
      "Epoch 2/2\n",
      "1000/1000 [==============================] - 772s 772ms/step - loss: 0.0674 - categorical_accuracy: 0.9827 - val_loss: 0.0222 - val_categorical_accuracy: 0.9935\n",
      "saving model\n",
      "Success\n"
     ]
    }
   ],
   "source": [
    "#we were using this checkpointer to save images, however heroku would not accept this file as it was too large so we \n",
    "#save the last weights instead\n",
    "#checkpointer = ModelCheckpoint(filepath = 'fruit_image.H5', verbose = 1, save_best_only = True)\n",
    "\n",
    "\n",
    "\n",
    "history = model2.fit_generator(all_training_batches2,\n",
    "                    #class_weight=[1,1,1,1,1,1,1,0.20],\n",
    "                    steps_per_epoch=1000, \n",
    "                    epochs = 2, \n",
    "                    validation_data=valid_batches2,\n",
    "                    validation_steps = 1000,\n",
    "                    verbose=1)\n",
    "model_json = model2.to_json()\n",
    "print('saving model')\n",
    "with open(\"model2.json\", \"w\" ) as json_file:\n",
    "    json_file.write(model_json)\n",
    "model2.save_weights(\"transparentBackground_cnn_model.h5\")\n",
    "print(\"Success\")"
   ]
  },
  {
   "cell_type": "code",
   "execution_count": null,
   "metadata": {},
   "outputs": [],
   "source": []
  },
  {
   "cell_type": "code",
   "execution_count": 44,
   "metadata": {},
   "outputs": [
    {
     "name": "stdout",
     "output_type": "stream",
     "text": [
      "_________________________________________________________________\n",
      "Layer (type)                 Output Shape              Param #   \n",
      "=================================================================\n",
      "conv2d_3 (Conv2D)            (None, 100, 100, 16)      448       \n",
      "_________________________________________________________________\n",
      "activation_3 (Activation)    (None, 100, 100, 16)      0         \n",
      "_________________________________________________________________\n",
      "batch_normalization_4 (Batch (None, 100, 100, 16)      64        \n",
      "_________________________________________________________________\n",
      "max_pooling2d_3 (MaxPooling2 (None, 50, 50, 16)        0         \n",
      "_________________________________________________________________\n",
      "gaussian_noise_3 (GaussianNo (None, 50, 50, 16)        0         \n",
      "_________________________________________________________________\n",
      "conv2d_4 (Conv2D)            (None, 50, 50, 32)        4640      \n",
      "_________________________________________________________________\n",
      "batch_normalization_5 (Batch (None, 50, 50, 32)        128       \n",
      "_________________________________________________________________\n",
      "max_pooling2d_4 (MaxPooling2 (None, 25, 25, 32)        0         \n",
      "_________________________________________________________________\n",
      "gaussian_noise_4 (GaussianNo (None, 25, 25, 32)        0         \n",
      "_________________________________________________________________\n",
      "flatten_2 (Flatten)          (None, 20000)             0         \n",
      "_________________________________________________________________\n",
      "dense_3 (Dense)              (None, 64)                1280064   \n",
      "_________________________________________________________________\n",
      "activation_4 (Activation)    (None, 64)                0         \n",
      "_________________________________________________________________\n",
      "dropout_2 (Dropout)          (None, 64)                0         \n",
      "_________________________________________________________________\n",
      "batch_normalization_6 (Batch (None, 64)                256       \n",
      "_________________________________________________________________\n",
      "dense_4 (Dense)              (None, 8)                 520       \n",
      "=================================================================\n",
      "Total params: 1,286,120\n",
      "Trainable params: 1,285,896\n",
      "Non-trainable params: 224\n",
      "_________________________________________________________________\n"
     ]
    }
   ],
   "source": [
    "model2.summary()"
   ]
  },
  {
   "cell_type": "code",
   "execution_count": null,
   "metadata": {},
   "outputs": [],
   "source": []
  },
  {
   "cell_type": "code",
   "execution_count": 45,
   "metadata": {},
   "outputs": [
    {
     "name": "stdout",
     "output_type": "stream",
     "text": [
      "1000/1000 [==============================] - 244s 244ms/step\n",
      "\n",
      " Test accuracy: 0.9942988534710848\n"
     ]
    }
   ],
   "source": [
    "# evaluate and print test accuracy\n",
    "score = model2.evaluate_generator(test_batches,steps=1000, verbose=1)\n",
    "print('\\n', 'Test accuracy:', score[1])\n"
   ]
  },
  {
   "cell_type": "markdown",
   "metadata": {},
   "source": [
    "### from the above it is clear to see we are going in the right direction, but I would still like to make it more accurate if possible"
   ]
  },
  {
   "cell_type": "code",
   "execution_count": 1,
   "metadata": {},
   "outputs": [
    {
     "ename": "NameError",
     "evalue": "name 'Sequential' is not defined",
     "output_type": "error",
     "traceback": [
      "\u001b[0;31m---------------------------------------------------------------------------\u001b[0m",
      "\u001b[0;31mNameError\u001b[0m                                 Traceback (most recent call last)",
      "\u001b[0;32m<ipython-input-1-0ec48014f1cf>\u001b[0m in \u001b[0;36m<module>\u001b[0;34m\u001b[0m\n\u001b[1;32m      1\u001b[0m \u001b[0;34m\u001b[0m\u001b[0m\n\u001b[0;32m----> 2\u001b[0;31m \u001b[0mmodel3\u001b[0m \u001b[0;34m=\u001b[0m \u001b[0mSequential\u001b[0m\u001b[0;34m(\u001b[0m\u001b[0;34m)\u001b[0m\u001b[0;34m\u001b[0m\u001b[0;34m\u001b[0m\u001b[0m\n\u001b[0m\u001b[1;32m      3\u001b[0m \u001b[0;34m\u001b[0m\u001b[0m\n\u001b[1;32m      4\u001b[0m \u001b[0mmodel3\u001b[0m\u001b[0;34m.\u001b[0m\u001b[0madd\u001b[0m\u001b[0;34m(\u001b[0m\u001b[0mConv2D\u001b[0m\u001b[0;34m(\u001b[0m\u001b[0;36m32\u001b[0m\u001b[0;34m,\u001b[0m \u001b[0mkernel_size\u001b[0m\u001b[0;34m=\u001b[0m\u001b[0;34m(\u001b[0m\u001b[0;36m3\u001b[0m\u001b[0;34m,\u001b[0m\u001b[0;36m3\u001b[0m\u001b[0;34m)\u001b[0m\u001b[0;34m,\u001b[0m \u001b[0mactivation\u001b[0m\u001b[0;34m=\u001b[0m\u001b[0;34m'relu'\u001b[0m\u001b[0;34m,\u001b[0m\u001b[0minput_shape\u001b[0m\u001b[0;34m=\u001b[0m\u001b[0;34m(\u001b[0m\u001b[0;36m100\u001b[0m\u001b[0;34m,\u001b[0m\u001b[0;36m100\u001b[0m\u001b[0;34m,\u001b[0m\u001b[0;36m4\u001b[0m\u001b[0;34m)\u001b[0m\u001b[0;34m)\u001b[0m\u001b[0;34m)\u001b[0m\u001b[0;34m\u001b[0m\u001b[0;34m\u001b[0m\u001b[0m\n\u001b[1;32m      5\u001b[0m \u001b[0mmodel3\u001b[0m\u001b[0;34m.\u001b[0m\u001b[0madd\u001b[0m\u001b[0;34m(\u001b[0m\u001b[0mMaxPooling2D\u001b[0m\u001b[0;34m(\u001b[0m\u001b[0mpool_size\u001b[0m\u001b[0;34m=\u001b[0m\u001b[0;34m(\u001b[0m\u001b[0;36m2\u001b[0m\u001b[0;34m,\u001b[0m \u001b[0;36m2\u001b[0m\u001b[0;34m)\u001b[0m\u001b[0;34m)\u001b[0m\u001b[0;34m)\u001b[0m\u001b[0;34m\u001b[0m\u001b[0;34m\u001b[0m\u001b[0m\n",
      "\u001b[0;31mNameError\u001b[0m: name 'Sequential' is not defined"
     ]
    }
   ],
   "source": [
    " \n",
    "model3 = Sequential()\n",
    " \n",
    "model3.add(Conv2D(32, kernel_size=(3,3), activation='relu',input_shape=(100,100,4)))\n",
    "model3.add(MaxPooling2D(pool_size=(2, 2)))\n",
    "model3.add(Dropout(0.35))\n",
    " \n",
    " \n",
    "model3.add(Conv2D(128, kernel_size=(3,3), activation='relu'))\n",
    "model3.add(Conv2D(256, (3, 3), activation='relu'))\n",
    "model3.add(MaxPooling2D(pool_size=(2, 2)))\n",
    "model3.add(Dropout(0.35))\n",
    " \n",
    "model3.add(Flatten())\n",
    "model3.add(Dense(512, activation='relu'))\n",
    "model3.add(Dropout(0.6))\n",
    "model3.add(BatchNormalization())\n",
    "model3.add(Dense(4, activation='softmax'))\n",
    " \n",
    "model3.summary()\n",
    " \n",
    " \n",
    " \n",
    " \n",
    "#compile the model\n",
    "model3.compile(loss='categorical_crossentropy',\n",
    "              optimizer=Adam(lr=.0005),\n",
    "              metrics=['categorical_accuracy'])\n",
    "print('Compiled!')\n",
    " \n"
   ]
  },
  {
   "cell_type": "code",
   "execution_count": null,
   "metadata": {},
   "outputs": [],
   "source": [
    "# evaluate and print test accuracy\n",
    "score = model3.evaluate(x_test,y_test, verbose=0)\n",
    "print('\\n', 'Test accuracy:', score[1])\n"
   ]
  }
 ],
 "metadata": {
  "kernelspec": {
   "display_name": "Python 3",
   "language": "python",
   "name": "python3"
  },
  "language_info": {
   "codemirror_mode": {
    "name": "ipython",
    "version": 3
   },
   "file_extension": ".py",
   "mimetype": "text/x-python",
   "name": "python",
   "nbconvert_exporter": "python",
   "pygments_lexer": "ipython3",
   "version": "3.7.1"
  }
 },
 "nbformat": 4,
 "nbformat_minor": 2
}
