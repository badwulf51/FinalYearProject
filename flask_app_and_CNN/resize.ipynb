{
 "cells": [
  {
   "cell_type": "code",
   "execution_count": null,
   "metadata": {},
   "outputs": [],
   "source": [
    "from PIL import Image, ImageOps\n",
    "from sklearn.datasets import load_files\n",
    "import numpy as np\n",
    "import datetime;"
   ]
  },
  {
   "cell_type": "code",
   "execution_count": null,
   "metadata": {},
   "outputs": [],
   "source": []
  },
  {
   "cell_type": "code",
   "execution_count": null,
   "metadata": {},
   "outputs": [],
   "source": [
    "\n",
    "\n"
   ]
  },
  {
   "cell_type": "code",
   "execution_count": null,
   "metadata": {},
   "outputs": [],
   "source": []
  },
  {
   "cell_type": "code",
   "execution_count": null,
   "metadata": {},
   "outputs": [],
   "source": []
  },
  {
   "cell_type": "code",
   "execution_count": null,
   "metadata": {},
   "outputs": [],
   "source": []
  },
  {
   "cell_type": "code",
   "execution_count": null,
   "metadata": {},
   "outputs": [],
   "source": []
  },
  {
   "cell_type": "code",
   "execution_count": null,
   "metadata": {},
   "outputs": [],
   "source": []
  },
  {
   "cell_type": "code",
   "execution_count": null,
   "metadata": {},
   "outputs": [],
   "source": []
  },
  {
   "cell_type": "code",
   "execution_count": null,
   "metadata": {},
   "outputs": [],
   "source": []
  },
  {
   "cell_type": "code",
   "execution_count": null,
   "metadata": {},
   "outputs": [],
   "source": [
    "#function which uses sklearn load_files to import the data\n",
    "def load_db(path):\n",
    "    data = load_files(path)\n",
    "    files = np.array(data['filenames'])\n",
    "    \n",
    "    \n",
    "\n",
    "    \n",
    "    \n",
    "    \n",
    "    targets = np.array(data['target'])\n",
    "    img = np.copy(targets)\n",
    "    \n",
    "    labels = np.array(data['target_names'])\n",
    "    return files, targets, labels\n",
    "\n",
    "x_train, y_train, labels = load_db(train_dir)\n",
    "x_test, y_test, labels = load_db(test_dir)\n",
    "print('loading completed')"
   ]
  },
  {
   "cell_type": "code",
   "execution_count": null,
   "metadata": {},
   "outputs": [],
   "source": [
    "from sklearn.datasets import load_files\n",
    "from keras.preprocessing.image import array_to_img, img_to_array, load_img\n",
    "import numpy as np\n",
    "\n",
    "from keras.models import Sequential, model_from_json\n",
    "from keras.layers import Conv2D,MaxPooling2D\n",
    "from keras.layers import Activation, Dense, Flatten, Dropout, BatchNormalization, GaussianNoise\n",
    "from keras.optimizers import Adam\n",
    "from keras.metrics import categorical_accuracy\n",
    "from keras.preprocessing.image import ImageDataGenerator\n",
    "\n",
    "\n",
    "from keras.callbacks import ModelCheckpoint\n"
   ]
  },
  {
   "cell_type": "code",
   "execution_count": null,
   "metadata": {},
   "outputs": [],
   "source": [
    "#convert images to array\n",
    "def convert_image_to_array(files):\n",
    "    images_as_array=[]\n",
    "    for file in files:\n",
    "        # Convert to Numpy Array\n",
    "        images_as_array.append(img_to_array(load_img(file)))\n",
    "    return images_as_array\n",
    "\n",
    "\n",
    "\n",
    "x_train = np.array(convert_image_to_array(x_train))\n",
    "print('Training set shape : ',x_train.shape)\n",
    "\n",
    "\n",
    "\n",
    "x_test = np.array(convert_image_to_array(x_test))\n",
    "print('Test set shape : ',x_test.shape)\n",
    "\n",
    "print('1st training image shape ',x_train[0].shape)\n",
    "print('1st training image shape ',x_test[0].shape)"
   ]
  },
  {
   "cell_type": "code",
   "execution_count": null,
   "metadata": {},
   "outputs": [],
   "source": [
    "\n",
    "\n",
    "for image in glob.glob(train_dir):\n",
    "    img = Image.open(x_train)\n",
    "    img = img.convert(\"RGBA\")\n",
    "    datas = img.getdata()\n",
    "\n",
    "    newData = []\n",
    "    for item in datas:\n",
    "        if item[0] == 255 and item[1] == 255 and item[2] == 255:\n",
    "            newData.append((255, 255, 255, 0))\n",
    "        else:\n",
    "            if item[0] > 150:\n",
    "                newData.append((0, 0, 0, 255))\n",
    "            else:\n",
    "                newData.append(item)\n",
    "                print(item)\n",
    "\n",
    "\n",
    "    img.putdata(newData)\n",
    "    img.save(\"test.png\", \"PNG\")"
   ]
  },
  {
   "cell_type": "code",
   "execution_count": null,
   "metadata": {},
   "outputs": [],
   "source": [
    "train_dir = 'fruits-360/Training/Apple/10_100.jpg'\n",
    "test_dir = 'fruits-360/Test'\n",
    "test2_dir = 'fruits-360/test2'"
   ]
  },
  {
   "cell_type": "code",
   "execution_count": null,
   "metadata": {},
   "outputs": [],
   "source": [
    "import os\n",
    "\n",
    "test = \"/Users/jameskennedy/4thyear/Extension/4thyearCNNMainProject/fruits-360/Training/resized_unknown/\"\n",
    "\n",
    "for root, dirs, files in os.walk(test):\n",
    "    for file in files:\n",
    "        if file.endswith(\".jpg\"):\n",
    "            ts = datetime.datetime.now().timestamp()\n",
    "            \n",
    "            img = Image.open(os.path.join(test,file))\n",
    "            \n",
    "            img = img.convert(\"RGBA\")\n",
    "            datas = img.getdata()\n",
    "\n",
    "            newData = []\n",
    "            for item in datas:\n",
    "                \n",
    "                if item[0] == 255 and item[1] == 255 and item[2] == 255:\n",
    "                    newData.append((255, 255, 255, 0))\n",
    "                elif item[0] == 0 and item[1] == 0 and item[2] == 0:\n",
    "                    newData.append((255, 255, 255, 0))\n",
    "                else:\n",
    "                    \n",
    "                    if item[0] > 254:\n",
    "                        newData.append((0, 0, 0, 0))\n",
    "                   \n",
    "                    else:\n",
    "                        newData.append(item)\n",
    "                        #print(item)\n",
    "                    #newData.append(item)\n",
    "\n",
    "            img.putdata(newData)\n",
    "            img.save(\"fruits-360/training2/unknown/\" + str(ts) + \".png\", \"PNG\")\n",
    "            print(file)"
   ]
  },
  {
   "cell_type": "code",
   "execution_count": null,
   "metadata": {},
   "outputs": [],
   "source": []
  },
  {
   "cell_type": "code",
   "execution_count": null,
   "metadata": {},
   "outputs": [],
   "source": []
  },
  {
   "cell_type": "code",
   "execution_count": null,
   "metadata": {},
   "outputs": [],
   "source": []
  }
 ],
 "metadata": {
  "kernelspec": {
   "display_name": "Python 3",
   "language": "python",
   "name": "python3"
  },
  "language_info": {
   "codemirror_mode": {
    "name": "ipython",
    "version": 3
   },
   "file_extension": ".py",
   "mimetype": "text/x-python",
   "name": "python",
   "nbconvert_exporter": "python",
   "pygments_lexer": "ipython3",
   "version": "3.7.1"
  }
 },
 "nbformat": 4,
 "nbformat_minor": 2
}
